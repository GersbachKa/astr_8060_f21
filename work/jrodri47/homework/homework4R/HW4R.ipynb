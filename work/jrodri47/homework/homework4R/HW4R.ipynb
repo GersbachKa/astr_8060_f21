{
 "cells": [
  {
   "cell_type": "markdown",
   "id": "3ac7c0a3",
   "metadata": {},
   "source": [
    "# Number 1:"
   ]
  },
  {
   "cell_type": "markdown",
   "id": "cc35203d",
   "metadata": {},
   "source": [
    "We are downloading many modules and packages that will be used for this assignment."
   ]
  },
  {
   "cell_type": "code",
   "execution_count": 1,
   "id": "c0e57c3a",
   "metadata": {},
   "outputs": [
    {
     "name": "stderr",
     "output_type": "stream",
     "text": [
      "WARNING: AstropyDeprecationWarning: block_reduce was moved to the astropy.nddata.blocks module.  Please update your import statement. [astropy.nddata.utils]\n"
     ]
    }
   ],
   "source": [
    "import numpy as np\n",
    "from astropy.io import fits\n",
    "%matplotlib inline\n",
    "from matplotlib import pyplot as plt\n",
    "from astropy.visualization import hist\n",
    "import ccdproc as ccdp\n",
    "from matplotlib import rc\n",
    "from datetime import datetime\n",
    "from astropy.nddata import CCDData\n",
    "from astropy.stats import mad_std\n",
    "\n",
    "phot_tutorial_dir =\"/Users/jonathanrodriguez/Documents/ASTR8060/repos/phot_tutorial/ccd-reduction-and-photometry-guide/notebooks/\"\n",
    "import sys\n",
    "sys.path.insert(0,phot_tutorial_dir)\n",
    "from convenience_functions import show_image\n",
    "\n",
    "plt.style.use(phot_tutorial_dir+'/guide.mplstyle')\n",
    "\n",
    "# Set some default parameters for the plots below\n",
    "rc('font', size=12)\n",
    "rc('axes', grid=True)"
   ]
  },
  {
   "cell_type": "code",
   "execution_count": 2,
   "id": "4c2b0d67",
   "metadata": {},
   "outputs": [],
   "source": [
    "from astropy.modeling import fitting\n",
    "from astropy.modeling.models import Polynomial1D,Chebyshev1D,Legendre1D"
   ]
  },
  {
   "cell_type": "code",
   "execution_count": 3,
   "id": "5a372f9d",
   "metadata": {},
   "outputs": [],
   "source": [
    "data_dir = '/Users/jonathanrodriguez/Documents/ASTR8060/Imaging'\n",
    "reduced_dir = '/Users/jonathanrodriguez/Documents/ASTR8060/Reductions1'"
   ]
  },
  {
   "cell_type": "markdown",
   "id": "3a1c5d21",
   "metadata": {},
   "source": [
    "For the next few cells, we will be opening the fits files of each image type (bias, dark, flats, etc) and characterizing their keywords. We also delete the header variables so as to not use too much computer memory."
   ]
  },
  {
   "cell_type": "code",
   "execution_count": null,
   "id": "97c319a2",
   "metadata": {},
   "outputs": [],
   "source": [
    "bias_files = [reduced_dir+'/a'+str(i).zfill(3)+'.fits' for i in np.arange(19)+(93)] \n",
    "hdus = [fits.open(file) for file in bias_files] #opening the fits files\n",
    "hdrs = [hdu[0].header for hdu in hdus] #storing the header information\n",
    "biases = [hdu[0].data for hdu in hdus] #storing the data"
   ]
  },
  {
   "cell_type": "code",
   "execution_count": null,
   "id": "3e54f594",
   "metadata": {},
   "outputs": [],
   "source": [
    "for i in range(np.size(hdus)):\n",
    "    print(i) #this shows that the for loop is iterating across the correct number. \n",
    "    hdrs[i]['BIASSEC'] = '[2102:2200, 0:2048]'\n",
    "    hdrs[i]['TRIMSEC'] = '[51:2102, 0:2048]'  \n",
    "    hdrs[i]['FILTER'] = 'None'\n",
    "    hdrs[i]['IMAGETYP'] = 'Bias'\n",
    "\n",
    "     \n",
    "    hdus[i].writeto(bias_files[i], overwrite = True)\n",
    "    \n",
    "del hdus # hdus take a lot of memory, so we delete these two after running the keywords. \n",
    "del hdrs"
   ]
  },
  {
   "cell_type": "code",
   "execution_count": null,
   "id": "17d12a5d",
   "metadata": {},
   "outputs": [],
   "source": [
    "flat_files = [reduced_dir+'/a'+str(i).zfill(3)+'.fits' for i in np.arange(16)+(5)] \n",
    "flat_files\n",
    "hdus1 = [fits.open(file) for file in flat_files]\n",
    "hdrs1 = [hdu[0].header for hdu in hdus1]\n",
    "flats = [hdu[0].data for hdu in hdus1]"
   ]
  },
  {
   "cell_type": "code",
   "execution_count": null,
   "id": "dbe496e5",
   "metadata": {},
   "outputs": [],
   "source": [
    "for i in range(np.size(hdus1)):\n",
    "    print(i) \n",
    "    hdrs1[i]['BIASSEC'] = '[2102:2200, 0:2048]'\n",
    "    hdrs1[i]['TRIMSEC'] = '[51:2102, 0:2048]'  \n",
    "    hdrs1[i]['FILTER'] = 'halpha'\n",
    "    hdrs1[i]['IMAGETYP'] = 'skyflat'\n",
    "    hdus1[i].writeto(flat_files[i], overwrite = True)\n",
    "    \n",
    "del hdus1 \n",
    "del hdrs1"
   ]
  },
  {
   "cell_type": "code",
   "execution_count": null,
   "id": "23a57f14",
   "metadata": {},
   "outputs": [],
   "source": [
    "v_files = [reduced_dir+'/a'+str(i).zfill(3)+'.fits' for i in np.arange(7)+(43)] \n",
    "v_files\n",
    "hdus2 = [fits.open(file) for file in v_files]\n",
    "hdrs2 = [hdu[0].header for hdu in hdus2]\n",
    "vflats = [hdu[0].data for hdu in hdus2]"
   ]
  },
  {
   "cell_type": "code",
   "execution_count": null,
   "id": "3ed7120d",
   "metadata": {},
   "outputs": [],
   "source": [
    "for i in range(np.size(hdus2)):\n",
    "    print(i) \n",
    "    hdrs2[i]['BIASSEC'] = '[2102:2200, 0:2048]'\n",
    "    hdrs2[i]['TRIMSEC'] = '[51:2102, 0:2048]'  \n",
    "    hdrs2[i]['FILTER'] = 'V'\n",
    "    hdrs2[i]['IMAGETYP'] = 'skyflat'\n",
    "    hdus2[i].writeto(v_files[i], overwrite = True)\n",
    "    \n",
    "del hdus2 \n",
    "del hdrs2"
   ]
  },
  {
   "cell_type": "code",
   "execution_count": null,
   "id": "4841cf24",
   "metadata": {},
   "outputs": [],
   "source": [
    "b_files = [reduced_dir+'/a'+str(i).zfill(3)+'.fits' for i in np.arange(14)+(29)] \n",
    "b_files\n",
    "hdus2 = [fits.open(file) for file in b_files]\n",
    "hdrs2 = [hdu[0].header for hdu in hdus2]\n",
    "bflats = [hdu[0].data for hdu in hdus2]"
   ]
  },
  {
   "cell_type": "code",
   "execution_count": null,
   "id": "4a1c1cca",
   "metadata": {},
   "outputs": [],
   "source": [
    "for i in range(np.size(hdus2)):\n",
    "    print(i) \n",
    "    hdrs2[i]['BIASSEC'] = '[2102:2200, 0:2048]'\n",
    "    hdrs2[i]['TRIMSEC'] = '[51:2102, 0:2048]'  \n",
    "    hdrs2[i]['FILTER'] = 'B'\n",
    "    hdrs2[i]['IMAGETYP'] = 'skyflat'\n",
    "    hdus2[i].writeto(b_files[i], overwrite = True)\n",
    "    \n",
    "del hdus2 \n",
    "del hdrs2"
   ]
  },
  {
   "cell_type": "code",
   "execution_count": null,
   "id": "a19c02c6",
   "metadata": {},
   "outputs": [],
   "source": [
    "u_files = [reduced_dir+'/a'+str(i).zfill(3)+'.fits' for i in np.arange(8)+(21)] \n",
    "u_files\n",
    "hdus2 = [fits.open(file) for file in u_files]\n",
    "hdrs2 = [hdu[0].header for hdu in hdus2]\n",
    "uflats = [hdu[0].data for hdu in hdus2]"
   ]
  },
  {
   "cell_type": "code",
   "execution_count": null,
   "id": "38dbbd52",
   "metadata": {},
   "outputs": [],
   "source": [
    "for i in range(np.size(hdus2)):\n",
    "    print(i) \n",
    "    hdrs2[i]['BIASSEC'] = '[2102:2200, 0:2048]'\n",
    "    hdrs2[i]['TRIMSEC'] = '[51:2102, 0:2048]'  \n",
    "    hdrs2[i]['FILTER'] = 'U'\n",
    "    hdrs2[i]['IMAGETYP'] = 'skyflat'\n",
    "    hdus2[i].writeto(u_files[i], overwrite = True)\n",
    "    \n",
    "del hdus2 \n",
    "del hdrs2"
   ]
  },
  {
   "cell_type": "code",
   "execution_count": null,
   "id": "a78809b2",
   "metadata": {},
   "outputs": [],
   "source": [
    "r_files = [reduced_dir+'/a'+str(i).zfill(3)+'.fits' for i in np.arange(6)+(50)] \n",
    "r_files\n",
    "hdus2 = [fits.open(file) for file in r_files]\n",
    "hdrs2 = [hdu[0].header for hdu in hdus2]\n",
    "rflats = [hdu[0].data for hdu in hdus2]"
   ]
  },
  {
   "cell_type": "code",
   "execution_count": null,
   "id": "aad3bcf3",
   "metadata": {},
   "outputs": [],
   "source": [
    "for i in range(np.size(hdus2)):\n",
    "    print(i) \n",
    "    hdrs2[i]['BIASSEC'] = '[2102:2200, 0:2048]'\n",
    "    hdrs2[i]['TRIMSEC'] = '[51:2102, 0:2048]'  \n",
    "    hdrs2[i]['FILTER'] = 'R'\n",
    "    hdrs2[i]['IMAGETYP'] = 'skyflat'\n",
    "    hdus2[i].writeto(r_files[i], overwrite = True)\n",
    "    \n",
    "del hdus2 \n",
    "del hdrs2"
   ]
  },
  {
   "cell_type": "code",
   "execution_count": null,
   "id": "5add18bf",
   "metadata": {},
   "outputs": [],
   "source": [
    "i_files = [reduced_dir+'/a'+str(i).zfill(3)+'.fits' for i in np.arange(6)+(57)] \n",
    "i_files\n",
    "hdus2 = [fits.open(file) for file in i_files]\n",
    "hdrs2 = [hdu[0].header for hdu in hdus2]\n",
    "iflats = [hdu[0].data for hdu in hdus2]"
   ]
  },
  {
   "cell_type": "code",
   "execution_count": null,
   "id": "d9e4c02b",
   "metadata": {},
   "outputs": [],
   "source": [
    "for i in range(np.size(hdus2)):\n",
    "    print(i) \n",
    "    hdrs2[i]['BIASSEC'] = '[2102:2200, 0:2048]'\n",
    "    hdrs2[i]['TRIMSEC'] = '[51:2102, 0:2048]'  \n",
    "    hdrs2[i]['FILTER'] = 'I'\n",
    "    hdrs2[i]['IMAGETYP'] = 'skyflat'\n",
    "    hdus2[i].writeto(i_files[i], overwrite = True)\n",
    "    \n",
    "del hdus2 \n",
    "del hdrs2"
   ]
  },
  {
   "cell_type": "code",
   "execution_count": null,
   "id": "9b61a03f",
   "metadata": {},
   "outputs": [],
   "source": [
    "dark_files = [reduced_dir+'/d'+str(i).zfill(3)+'.fits' for i in np.arange(15)+(1)] \n",
    "dark_files\n",
    "hdus3 = [fits.open(file) for file in dark_files]\n",
    "hdrs3 = [hdu[0].header for hdu in hdus3]\n",
    "darks = [hdu[0].data for hdu in hdus3]"
   ]
  },
  {
   "cell_type": "code",
   "execution_count": null,
   "id": "f912c26f",
   "metadata": {},
   "outputs": [],
   "source": [
    "for i in range(np.size(hdus3)):\n",
    "    print(i) \n",
    "    hdrs3[i]['BIASSEC'] = '[2102:2200, 0:2048]'\n",
    "    hdrs3[i]['TRIMSEC'] = '[51:2102, 0:2048]'  \n",
    "    hdrs3[i]['FILTER'] = 'none'\n",
    "    hdrs3[i]['IMAGETYP'] = 'darks'\n",
    "    hdus3[i].writeto(dark_files[i], overwrite = True)\n",
    "    \n",
    "del hdus3 \n",
    "del hdrs3"
   ]
  },
  {
   "cell_type": "code",
   "execution_count": null,
   "id": "7e62d3cd",
   "metadata": {},
   "outputs": [],
   "source": [
    "PG1633V_files = [reduced_dir+'/a'+str(i).zfill(3)+'.fits' for i in np.arange(7)+(74)]  \n",
    "PG1633V_files\n",
    "hdus4 = [fits.open(file) for file in PG1633V_files]\n",
    "hdrs4 = [hdu[0].header for hdu in hdus4]\n",
    "PG1633V = [hdu[0].data for hdu in hdus4]"
   ]
  },
  {
   "cell_type": "code",
   "execution_count": null,
   "id": "70c748f6",
   "metadata": {},
   "outputs": [],
   "source": [
    "for i in range(np.size(hdus4)):\n",
    "    print(i) \n",
    "    hdrs4[i]['BIASSEC'] = '[2102:2200, 0:2048]'\n",
    "    hdrs4[i]['TRIMSEC'] = '[51:2102, 0:2048]'  \n",
    "    hdrs4[i]['FILTER'] = 'V'\n",
    "    hdrs4[i]['IMAGETYP'] = 'science'\n",
    "    hdus4[i].writeto(PG1633V_files[i], overwrite = True)\n",
    "    \n",
    "del hdus4 \n",
    "del hdrs4"
   ]
  },
  {
   "cell_type": "code",
   "execution_count": null,
   "id": "107da083",
   "metadata": {},
   "outputs": [],
   "source": [
    "PG1633U_files = [reduced_dir+'/a'+str(i).zfill(3)+'.fits' for i in np.arange(2)+(81)] \n",
    "PG1633U_files\n",
    "hdus4 = [fits.open(file) for file in PG1633U_files]\n",
    "hdrs4 = [hdu[0].header for hdu in hdus4]\n",
    "PG1633U = [hdu[0].data for hdu in hdus4]"
   ]
  },
  {
   "cell_type": "code",
   "execution_count": null,
   "id": "f70663ad",
   "metadata": {},
   "outputs": [],
   "source": [
    "for i in range(np.size(hdus4)):\n",
    "    print(i) \n",
    "    hdrs4[i]['BIASSEC'] = '[2102:2200, 0:2048]'\n",
    "    hdrs4[i]['TRIMSEC'] = '[51:2102, 0:2048]'  \n",
    "    hdrs4[i]['FILTER'] = 'U'\n",
    "    hdrs4[i]['IMAGETYP'] = 'science'\n",
    "    hdus4[i].writeto(PG1633U_files[i], overwrite = True)\n",
    "    \n",
    "del hdus4 \n",
    "del hdrs4"
   ]
  },
  {
   "cell_type": "code",
   "execution_count": null,
   "id": "4a9f47f3",
   "metadata": {},
   "outputs": [],
   "source": [
    "PG1633B_files = [reduced_dir+'/a'+str(i).zfill(3)+'.fits' for i in np.arange(2)+(83)] \n",
    "PG1633B_files\n",
    "hdus4 = [fits.open(file) for file in PG1633B_files]\n",
    "hdrs4 = [hdu[0].header for hdu in hdus4]\n",
    "PG1633B = [hdu[0].data for hdu in hdus4]"
   ]
  },
  {
   "cell_type": "code",
   "execution_count": null,
   "id": "69e3710a",
   "metadata": {},
   "outputs": [],
   "source": [
    "for i in range(np.size(hdus4)):\n",
    "    print(i) \n",
    "    hdrs4[i]['BIASSEC'] = '[2102:2200, 0:2048]'\n",
    "    hdrs4[i]['TRIMSEC'] = '[51:2102, 0:2048]'  \n",
    "    hdrs4[i]['FILTER'] = 'B'\n",
    "    hdrs4[i]['IMAGETYP'] = 'science'\n",
    "    hdus4[i].writeto(PG1633B_files[i], overwrite = True)\n",
    "    \n",
    "del hdus4 \n",
    "del hdrs4"
   ]
  },
  {
   "cell_type": "code",
   "execution_count": null,
   "id": "76baedeb",
   "metadata": {},
   "outputs": [],
   "source": [
    "PG1633V1_files = [reduced_dir+'/a'+str(i).zfill(3)+'.fits' for i in np.arange(2)+(85)] \n",
    "PG1633V1_files\n",
    "hdus4 = [fits.open(file) for file in PG1633V1_files]\n",
    "hdrs4 = [hdu[0].header for hdu in hdus4]\n",
    "PG1633V1 = [hdu[0].data for hdu in hdus4]"
   ]
  },
  {
   "cell_type": "code",
   "execution_count": null,
   "id": "06a70c67",
   "metadata": {},
   "outputs": [],
   "source": [
    "for i in range(np.size(hdus4)):\n",
    "    print(i) \n",
    "    hdrs4[i]['BIASSEC'] = '[2102:2200, 0:2048]'\n",
    "    hdrs4[i]['TRIMSEC'] = '[51:2102, 0:2048]'  \n",
    "    hdrs4[i]['FILTER'] = 'V'\n",
    "    hdrs4[i]['IMAGETYP'] = 'science'\n",
    "    hdus4[i].writeto(PG1633V1_files[i], overwrite = True)\n",
    "    \n",
    "del hdus4 \n",
    "del hdrs4"
   ]
  },
  {
   "cell_type": "code",
   "execution_count": null,
   "id": "d7568275",
   "metadata": {},
   "outputs": [],
   "source": [
    "PG1633R_files = [reduced_dir+'/a'+str(i).zfill(3)+'.fits' for i in np.arange(2)+(87)] \n",
    "PG1633R_files\n",
    "hdus4 = [fits.open(file) for file in PG1633R_files]\n",
    "hdrs4 = [hdu[0].header for hdu in hdus4]\n",
    "PG1633R = [hdu[0].data for hdu in hdus4]"
   ]
  },
  {
   "cell_type": "code",
   "execution_count": null,
   "id": "b3187ccd",
   "metadata": {},
   "outputs": [],
   "source": [
    "for i in range(np.size(hdus4)):\n",
    "    print(i) \n",
    "    hdrs4[i]['BIASSEC'] = '[2102:2200, 0:2048]'\n",
    "    hdrs4[i]['TRIMSEC'] = '[51:2102, 0:2048]'  \n",
    "    hdrs4[i]['FILTER'] = 'R'\n",
    "    hdrs4[i]['IMAGETYP'] = 'science'\n",
    "    hdus4[i].writeto(PG1633R_files[i], overwrite = True)\n",
    "    \n",
    "del hdus4 \n",
    "del hdrs4"
   ]
  },
  {
   "cell_type": "code",
   "execution_count": null,
   "id": "eb6ca426",
   "metadata": {},
   "outputs": [],
   "source": [
    "PG1633I_files = [reduced_dir+'/a'+str(i).zfill(3)+'.fits' for i in np.arange(2)+(89)] \n",
    "PG1633I_files\n",
    "hdus4 = [fits.open(file) for file in PG1633I_files]\n",
    "hdrs4 = [hdu[0].header for hdu in hdus4]\n",
    "PG1633I = [hdu[0].data for hdu in hdus4]"
   ]
  },
  {
   "cell_type": "code",
   "execution_count": null,
   "id": "745f6156",
   "metadata": {},
   "outputs": [],
   "source": [
    "for i in range(np.size(hdus4)):\n",
    "    print(i) \n",
    "    hdrs4[i]['BIASSEC'] = '[2102:2200, 0:2048]'\n",
    "    hdrs4[i]['TRIMSEC'] = '[51:2102, 0:2048]'  \n",
    "    hdrs4[i]['FILTER'] = 'I'\n",
    "    hdrs4[i]['IMAGETYP'] = 'science'\n",
    "    hdus4[i].writeto(PG1633I_files[i], overwrite = True)\n",
    "    \n",
    "del hdus4 \n",
    "del hdrs4"
   ]
  },
  {
   "cell_type": "code",
   "execution_count": null,
   "id": "4bf37f96",
   "metadata": {},
   "outputs": [],
   "source": [
    "PG1633halpha_files = [reduced_dir+'/a'+str(i).zfill(3)+'.fits' for i in np.arange(2)+(91)] \n",
    "PG1633halpha_files\n",
    "hdus4 = [fits.open(file) for file in PG1633halpha_files]\n",
    "hdrs4 = [hdu[0].header for hdu in hdus4]\n",
    "PG1633halpha = [hdu[0].data for hdu in hdus4]"
   ]
  },
  {
   "cell_type": "code",
   "execution_count": null,
   "id": "42b8b901",
   "metadata": {},
   "outputs": [],
   "source": [
    "for i in range(np.size(hdus4)):\n",
    "    print(i) \n",
    "    hdrs4[i]['BIASSEC'] = '[2102:2200, 0:2048]'\n",
    "    hdrs4[i]['TRIMSEC'] = '[51:2102, 0:2048]'  \n",
    "    hdrs4[i]['FILTER'] = 'halpha'\n",
    "    hdrs4[i]['IMAGETYP'] = 'science'\n",
    "    hdus4[i].writeto(PG1633halpha_files[i], overwrite = True)\n",
    "    \n",
    "del hdus4 \n",
    "del hdrs4"
   ]
  },
  {
   "cell_type": "code",
   "execution_count": null,
   "id": "7a20be1c",
   "metadata": {},
   "outputs": [],
   "source": [
    "NGC6823I_files = [reduced_dir+'/a'+str(i).zfill(3)+'.fits' for i in np.arange(2)+(153)] \n",
    "hdus4 = [fits.open(file) for file in NGC6823I_files]\n",
    "hdrs4 = [hdu[0].header for hdu in hdus4]\n",
    "NGC6823I = [hdu[0].data for hdu in hdus4]"
   ]
  },
  {
   "cell_type": "code",
   "execution_count": null,
   "id": "45aaa686",
   "metadata": {},
   "outputs": [],
   "source": [
    "for i in range(np.size(hdus4)):\n",
    "    print(i) \n",
    "    hdrs4[i]['BIASSEC'] = '[2102:2200, 0:2048]'\n",
    "    hdrs4[i]['TRIMSEC'] = '[51:2102, 0:2048]'  \n",
    "    hdrs4[i]['FILTER'] = 'I'\n",
    "    hdrs4[i]['IMAGETYP'] = 'science1'\n",
    "    hdus4[i].writeto(NGC6823I_files[i], overwrite = True)\n",
    "    \n",
    "del hdus4 \n",
    "del hdrs4"
   ]
  },
  {
   "cell_type": "code",
   "execution_count": null,
   "id": "cbdd4608",
   "metadata": {},
   "outputs": [],
   "source": [
    "NGC6823R_files = [reduced_dir+'/a'+str(i).zfill(3)+'.fits' for i in np.arange(2)+(155)] \n",
    "hdus4 = [fits.open(file) for file in NGC6823R_files]\n",
    "hdrs4 = [hdu[0].header for hdu in hdus4]\n",
    "NGC6823R = [hdu[0].data for hdu in hdus4]"
   ]
  },
  {
   "cell_type": "code",
   "execution_count": null,
   "id": "60d52b9d",
   "metadata": {},
   "outputs": [],
   "source": [
    "for i in range(np.size(hdus4)):\n",
    "    print(i) \n",
    "    hdrs4[i]['BIASSEC'] = '[2102:2200, 0:2048]'\n",
    "    hdrs4[i]['TRIMSEC'] = '[51:2102, 0:2048]'  \n",
    "    hdrs4[i]['FILTER'] = 'R'\n",
    "    hdrs4[i]['IMAGETYP'] = 'science1'\n",
    "    hdus4[i].writeto(NGC6823R_files[i], overwrite = True)\n",
    "    \n",
    "del hdus4 \n",
    "del hdrs4"
   ]
  },
  {
   "cell_type": "code",
   "execution_count": null,
   "id": "839ed64e",
   "metadata": {},
   "outputs": [],
   "source": [
    "NGC6823V_files = [reduced_dir+'/a'+str(i).zfill(3)+'.fits' for i in np.arange(3)+(157)] \n",
    "hdus4 = [fits.open(file) for file in NGC6823V_files]\n",
    "hdrs4 = [hdu[0].header for hdu in hdus4]\n",
    "NGC6823V = [hdu[0].data for hdu in hdus4]"
   ]
  },
  {
   "cell_type": "code",
   "execution_count": null,
   "id": "3753caa6",
   "metadata": {},
   "outputs": [],
   "source": [
    "for i in range(np.size(hdus4)):\n",
    "    print(i) \n",
    "    hdrs4[i]['BIASSEC'] = '[2102:2200, 0:2048]'\n",
    "    hdrs4[i]['TRIMSEC'] = '[51:2102, 0:2048]'  \n",
    "    hdrs4[i]['FILTER'] = 'V'\n",
    "    hdrs4[i]['IMAGETYP'] = 'science1'\n",
    "    hdus4[i].writeto(NGC6823V_files[i], overwrite = True)\n",
    "    \n",
    "del hdus4 \n",
    "del hdrs4"
   ]
  },
  {
   "cell_type": "code",
   "execution_count": null,
   "id": "db397f3d",
   "metadata": {},
   "outputs": [],
   "source": [
    "NGC6823B_files = [reduced_dir+'/a'+str(i).zfill(3)+'.fits' for i in np.arange(2)+(160)] \n",
    "hdus4 = [fits.open(file) for file in NGC6823B_files]\n",
    "hdrs4 = [hdu[0].header for hdu in hdus4]\n",
    "NGC6823B = [hdu[0].data for hdu in hdus4]"
   ]
  },
  {
   "cell_type": "code",
   "execution_count": null,
   "id": "c4dad3dc",
   "metadata": {},
   "outputs": [],
   "source": [
    "for i in range(np.size(hdus4)):\n",
    "    print(i) \n",
    "    hdrs4[i]['BIASSEC'] = '[2102:2200, 0:2048]'\n",
    "    hdrs4[i]['TRIMSEC'] = '[51:2102, 0:2048]'  \n",
    "    hdrs4[i]['FILTER'] = 'B'\n",
    "    hdrs4[i]['IMAGETYP'] = 'science1'\n",
    "    hdus4[i].writeto(NGC6823B_files[i], overwrite = True)\n",
    "    \n",
    "del hdus4 \n",
    "del hdrs4"
   ]
  },
  {
   "cell_type": "code",
   "execution_count": null,
   "id": "63172edc",
   "metadata": {},
   "outputs": [],
   "source": [
    "NGC6823U1_files = [reduced_dir+'/a'+str(i).zfill(3)+'.fits' for i in np.arange(2)+(162)] \n",
    "hdus4 = [fits.open(file) for file in NGC6823U1_files]\n",
    "hdrs4 = [hdu[0].header for hdu in hdus4]\n",
    "NGC6823U1 = [hdu[0].data for hdu in hdus4]"
   ]
  },
  {
   "cell_type": "code",
   "execution_count": null,
   "id": "82dde737",
   "metadata": {},
   "outputs": [],
   "source": [
    "for i in range(np.size(hdus4)):\n",
    "    print(i) \n",
    "    hdrs4[i]['BIASSEC'] = '[2102:2200, 0:2048]'\n",
    "    hdrs4[i]['TRIMSEC'] = '[51:2102, 0:2048]'  \n",
    "    hdrs4[i]['FILTER'] = 'U'\n",
    "    hdrs4[i]['IMAGETYP'] = 'science1'\n",
    "    hdus4[i].writeto(NGC6823U1_files[i], overwrite = True)\n",
    "    \n",
    "del hdus4 \n",
    "del hdrs4"
   ]
  },
  {
   "cell_type": "markdown",
   "id": "35e9f6e8",
   "metadata": {},
   "source": [
    "This is where we subtract the overscan region and trim the images. Specifically, we are trimming the image to be a size of 2048x2048."
   ]
  },
  {
   "cell_type": "code",
   "execution_count": null,
   "id": "ff484e1c",
   "metadata": {},
   "outputs": [],
   "source": [
    "imgs = ccdp.ImageFileCollection(reduced_dir,glob_include='*.fits')"
   ]
  },
  {
   "cell_type": "code",
   "execution_count": null,
   "id": "0295e91d",
   "metadata": {},
   "outputs": [],
   "source": [
    "for ccd, file_name in imgs.ccds(ccd_kwargs = {'unit': 'adu'}, return_fname = True):\n",
    "    ccd = ccdp.subtract_overscan(ccd, overscan = ccd[:, :2101], median = True)\n",
    "    ccd = ccdp.trim_image(ccd[:, :2048])\n",
    "    outfile = file_name.strip('.fits')+'ot.fits'\n",
    "    ccd.write(reduced_dir + outfile, overwrite = True)"
   ]
  },
  {
   "cell_type": "markdown",
   "id": "0f968757",
   "metadata": {},
   "source": [
    "# Number 2:"
   ]
  },
  {
   "cell_type": "markdown",
   "id": "3e5ebfec",
   "metadata": {},
   "source": [
    "We will be creating a master bias via the ImageFileCollection and ccdp.combine functions. This will combine all of the bias images into one, which will then be subtracted from all images. "
   ]
  },
  {
   "cell_type": "code",
   "execution_count": null,
   "id": "9a9a95e2",
   "metadata": {},
   "outputs": [],
   "source": [
    "imgs_ot = ccdp.ImageFileCollection(reduced_dir,glob_include='*ot.fits')"
   ]
  },
  {
   "cell_type": "code",
   "execution_count": null,
   "id": "48dce92e",
   "metadata": {},
   "outputs": [],
   "source": [
    "calibrated_biases = imgs_ot.files_filtered(imagetyp='bias', include_path=True)\n",
    "\n",
    "combined_bias = ccdp.combine(calibrated_biases,\n",
    "                             method='average',\n",
    "                             sigma_clip=True, sigma_clip_low_thresh=5, sigma_clip_high_thresh=5,\n",
    "                             sigma_clip_func=np.ma.median, signma_clip_dev_func=mad_std,\n",
    "                             mem_limit=350e6\n",
    "                            )\n",
    "\n",
    "combined_bias.meta['combined'] = True\n",
    "\n",
    "combined_bias.write(reduced_dir+'combined_bias.fit', overwrite = True)"
   ]
  },
  {
   "cell_type": "markdown",
   "id": "5f6a8d58",
   "metadata": {},
   "source": [
    "# Number 3 and 4:"
   ]
  },
  {
   "cell_type": "markdown",
   "id": "4b25138f",
   "metadata": {},
   "source": [
    "We take the master bias and subtract it from all images. In doing so, we label each newly corrected file with \"otz.fits\" at the end to denote that they have been corrected. "
   ]
  },
  {
   "cell_type": "code",
   "execution_count": null,
   "id": "90890ea2",
   "metadata": {},
   "outputs": [],
   "source": [
    "master_bias = '/Users/jonathanrodriguez/Documents/ASTR8060/Reductions1combined_bias.fit'"
   ]
  },
  {
   "cell_type": "code",
   "execution_count": null,
   "id": "25faed27",
   "metadata": {},
   "outputs": [],
   "source": [
    "hdus4 = fits.open(master_bias)\n",
    "hdrs4 = hdus4[0].header\n",
    "master_bias1 = hdus4[0].data\n",
    "\n",
    "del hdus4\n",
    "del hdrs4"
   ]
  },
  {
   "cell_type": "code",
   "execution_count": null,
   "id": "d347571a",
   "metadata": {},
   "outputs": [],
   "source": [
    "imgs_a = ccdp.ImageFileCollection(reduced_dir, glob_include='*ot.fits')\n",
    "\n",
    "for ccd, file_name in imgs_a.ccds(ccd_kwargs={'unit': 'adu'}, return_fname=True):\n",
    "    sub = ccd.data-master_bias1\n",
    "    outfile = file_name.strip('.fits')+'otz.fits'\n",
    "    ccd.write(reduced_dir + outfile, overwrite=True)"
   ]
  }
 ],
 "metadata": {
  "kernelspec": {
   "display_name": "Python 3",
   "language": "python",
   "name": "python3"
  },
  "language_info": {
   "codemirror_mode": {
    "name": "ipython",
    "version": 3
   },
   "file_extension": ".py",
   "mimetype": "text/x-python",
   "name": "python",
   "nbconvert_exporter": "python",
   "pygments_lexer": "ipython3",
   "version": "3.7.0"
  }
 },
 "nbformat": 4,
 "nbformat_minor": 5
}

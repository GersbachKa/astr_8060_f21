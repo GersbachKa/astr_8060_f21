{
 "cells": [
  {
   "cell_type": "markdown",
   "id": "serial-america",
   "metadata": {},
   "source": [
    "# Setting up your computer\n",
    "\n",
    "J. C. Runnoe, 2021\n",
    "\n"
   ]
  },
  {
   "cell_type": "markdown",
   "id": "proof-wrapping",
   "metadata": {},
   "source": [
    "## 1. Anaconda\n",
    "\n",
    "Anaconda (or miniconda, if you want just the environment and no pre-installed packages) is a Python environment manager. That is, it allows you to custom Python workspaces that you can enter/exit as needed. We will create a shared environment in this way.\n",
    "\n",
    " - To check if you already have conda installed, type the following in a terminal window: <br>\n",
    "   Jess@Shasta:~> which conda <br>\n",
    "   /Users/runnojc1/anaconda3/bin//conda\n",
    "   \n",
    "   \n",
    " - If you do not have conda installed, you can get it here: <br>\n",
    " https://docs.conda.io/en/latest/miniconda.html\n",
    "\n",
    "\n",
    " - You may need to update your path. I have the following in my .cshrc file: <br>\n",
    "    setenv PATH \"${PATH}:/Users/runnojc1/anaconda3/bin/\" <br>\n",
    "    alias sconda \"source /Users/runnojc1/anaconda3/etc/profile.d/conda.csh\"\n",
    "    \n",
    "    If you use BASH, the syntax for your .bash_profile would be something like this: <br>\n",
    "    export PATH=\"/Users/runnojc1/anaconda3/bin/:$PATH\" <br>\n",
    "    alias sconda = “source /Applications/anaconda2/etc/profile.d/conda.sh\"\n",
    "    \n"
   ]
  },
  {
   "cell_type": "markdown",
   "id": "hollow-grade",
   "metadata": {},
   "source": [
    "## 2. Python environment\n",
    "\n",
    "You may be familiar with Python packages, like numpy or matplotlib. A Python environment is a stand-alone space where you can customize which packages and versions you have installed, which can be useful e.g., for maintaining a Python2 environment for backwards compatibility.<br>\n",
    "\n",
    " - We will all use the same environment for class. To create it: <br>\n",
    " Jess@Shasta:~> conda create -n python37 python=3.7.0\n",
    "\n",
    " - Then add it to your .cshrc file for easy recall: <br>\n",
    " alias gopy3 “conda activate python37\"\n",
    " \n",
    " Or for BASH in your .bash_profile: <br>\n",
    " alias gopy3 = “conda activate python37\"\n",
    " \n",
    "\n",
    "When you open your terminal, you would type the following commands to activate conda and enter our class environment: <br>\n",
    " Jess@Shasta:~> sconda <br>\n",
    " Jess@Shasta:~> gopy3\n",
    " \n",
    "When necessary, you can deactivate this with conda deactivate."
   ]
  },
  {
   "cell_type": "markdown",
   "id": "reliable-sailing",
   "metadata": {},
   "source": [
    "## 3. Python packages\n",
    "\n",
    "Your conda environment currently does not have any packages installed. You can install them either with conda, or with the Python package manager, pip. The syntax is either: <br>\n",
    "\n",
    "conda install package <br>\n",
    "pip install package <br>\n",
    "\n",
    "What's the difference? Generally, conda is an environment manager for multiple languages whereas pip is a package manager for Python only. But if you're installing Python packages they are pretty similar (modulo some details about how they handle installation). In practice, whether or not the package I want to install is available from one or the other is usually my deciding factor. You will need the following: <br>\n",
    "\n",
    " - numpy\n",
    " - matplotlib\n",
    " - scipy\n",
    " - astropy\n",
    " - jupyterlab\n",
    " \n",
    "I executed the following to install many things at once: <br>\n",
    " Jess@Shasta:~> conda install -c numpy scipy astropy ccdproc photutils ipywidgets matplotlib jupyterlab\n",
    " \n",
    "The nb_conda package (which you will need to conda install) is also handy to allow you to use specific conda environments as kernels for your Jupyter notebooks."
   ]
  },
  {
   "cell_type": "markdown",
   "id": "suburban-pizza",
   "metadata": {},
   "source": [
    "You should verify that everything has installed properly and check your versions:"
   ]
  },
  {
   "cell_type": "code",
   "execution_count": 8,
   "id": "smaller-archive",
   "metadata": {},
   "outputs": [
    {
     "name": "stdout",
     "output_type": "stream",
     "text": [
      "python version  3.7.0  core programming language\n",
      "numpy version  1.21.2  efficient array operations\n",
      "scipy version  1.5.3  scientific computing tools\n",
      "matplotlib version  3.3.2  plotting and visualization\n",
      "astropy version  4.2  astronomy specific software tools\n",
      "jupyterlab version  3.1.13  includes jupyter notebooks\n"
     ]
    }
   ],
   "source": [
    "from platform import python_version\n",
    "import numpy\n",
    "import scipy\n",
    "import matplotlib\n",
    "import astropy\n",
    "import jupyterlab\n",
    "\n",
    "print(\"python version \",python_version(), \" core programming language\")\n",
    "print(\"numpy version \",numpy.__version__, \" efficient array operations\")\n",
    "print(\"scipy version \",scipy.__version__, \" scientific computing tools\")\n",
    "print(\"matplotlib version \",matplotlib.__version__, \" plotting and visualization\")\n",
    "print(\"astropy version \",astropy.__version__, \" astronomy specific software tools\")\n",
    "print(\"jupyterlab version \",jupyterlab.__version__, \" includes jupyter notebooks\")"
   ]
  },
  {
   "cell_type": "markdown",
   "id": "olympic-librarian",
   "metadata": {},
   "source": [
    "## 4. Git and Github\n",
    "\n",
    "Even if you don't feel comfortable using them, you may have heard of the version control software Git and website <a href=\"https://github.com/\">Github</a>. We will use both during this class. If you haven't already, go make an account on Github.\n",
    "\n",
    "If you have a Mac, you probably already have Git installed on your machine. You can check with: <br>\n",
    "Jess@Shasta:~> which git <br>\n",
    "/usr/bin/git <br>\n",
    "Jess@Shasta:~> git --version <br>\n",
    "git version 2.20.1 (Apple Git-117) <br>\n",
    "\n",
    "If necessary, you can download the Git installer for your OS here: https://git-scm.com/downloads.\n",
    "\n",
    "Once you have Git installed, you should check that it is properly configured. The following command will allow you to edit (in vi) your config information. Make sure your email matches the one associated with your Github account.\n",
    "\n",
    "Jess@Shasta:~> git config --global --edit"
   ]
  }
 ],
 "metadata": {
  "kernelspec": {
   "display_name": "Python 3",
   "language": "python",
   "name": "python3"
  },
  "language_info": {
   "codemirror_mode": {
    "name": "ipython",
    "version": 3
   },
   "file_extension": ".py",
   "mimetype": "text/x-python",
   "name": "python",
   "nbconvert_exporter": "python",
   "pygments_lexer": "ipython3",
   "version": "3.7.0"
  }
 },
 "nbformat": 4,
 "nbformat_minor": 5
}

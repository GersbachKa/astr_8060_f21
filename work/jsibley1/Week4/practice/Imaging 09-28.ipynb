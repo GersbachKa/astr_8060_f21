{
 "cells": [
  {
   "cell_type": "code",
   "execution_count": 1,
   "id": "cc2b5e87",
   "metadata": {},
   "outputs": [],
   "source": [
    "#Imaging \n",
    "#Jordan Sibley 09/28"
   ]
  },
  {
   "cell_type": "code",
   "execution_count": 2,
   "id": "b078a722",
   "metadata": {},
   "outputs": [],
   "source": [
    "# import block\n",
    "import numpy as np\n",
    "from astropy.io import fits\n",
    "%matplotlib inline\n",
    "from matplotlib import pyplot as plt\n",
    "from astropy.visualization import hist"
   ]
  },
  {
   "cell_type": "code",
   "execution_count": 3,
   "id": "6a6e229e",
   "metadata": {},
   "outputs": [],
   "source": [
    "# since you can't store your data in our Git repo,define some directories for easy access\n",
    "# your directories will be different than mine, so make sure these point to the right place\n",
    "data_dir = '/Users/runnojc1/Dropbox/Research/teaching/F2021/ASTR8060/Imaging/'\n",
    "reduced_dir = '/Users/runnojc1/Dropbox/Research/teaching/F2021/ASTR8060/work/reductions/reduced/'"
   ]
  },
  {
   "cell_type": "code",
   "execution_count": null,
   "id": "d1d2d946",
   "metadata": {},
   "outputs": [],
   "source": []
  },
  {
   "cell_type": "code",
   "execution_count": null,
   "id": "c1942394",
   "metadata": {},
   "outputs": [],
   "source": []
  }
 ],
 "metadata": {
  "kernelspec": {
   "display_name": "Python 3 (ipykernel)",
   "language": "python",
   "name": "python3"
  },
  "language_info": {
   "codemirror_mode": {
    "name": "ipython",
    "version": 3
   },
   "file_extension": ".py",
   "mimetype": "text/x-python",
   "name": "python",
   "nbconvert_exporter": "python",
   "pygments_lexer": "ipython3",
   "version": "3.7.0"
  }
 },
 "nbformat": 4,
 "nbformat_minor": 5
}
